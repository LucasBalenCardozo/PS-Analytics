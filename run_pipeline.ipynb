{
 "cells": [
  {
   "cell_type": "code",
   "execution_count": null,
   "id": "242211b3-9859-4bf8-acc5-fb49db0f2099",
   "metadata": {},
   "outputs": [],
   "source": [
    "\"\"\"\n",
    "Data Extract — Casa dos Ventos (PS Analytics)\n",
    "Coleta de aerogeradores do ArcGIS (SIGEL/ANEEL) usando requests,\n",
    "com paginação via resultOffset e salvando o raw JSON.\n",
    "\n",
    "Saída:\n",
    "- outputs/raw/aerogeradores_raw.geojson  (lista única com todos os features)\n",
    "\"\"\"\n",
    "\n",
    "import extract\n",
    "\n",
    "# Se quiser, dá para filtrar aqui por atributos do serviço usando extra_params \n",
    "# Exemplo: extra_params = {\"where\": \"UF='RN'\"}\n",
    "extra_params = {\"units\": \"meters\"}\n",
    "\n",
    "print(\"[INFO] Iniciando coleta do SIGEL/ANEEL (ArcGIS)\")\n",
    "features = extract.fetch_all_features(extra_params=extra_params, verbose=True)\n",
    "print(f\"[INFO] Total coletado: {len(features)} registros\")"
   ]
  },
  {
   "cell_type": "code",
   "execution_count": null,
   "id": "95f3569c-9e03-47ba-9fd7-40151bb708b1",
   "metadata": {},
   "outputs": [],
   "source": [
    "import processing\n",
    "import os\n",
    "\n",
    "csv_path = \"outputs/aerogeradores.csv\"\n",
    "\n",
    "print(\"[INFO] Convertendo geoJSON para GeoDataFrame (EPSG:4326)\")\n",
    "gdf = processing.gdf_from_geojson(features)\n",
    "\n",
    "print(\"[INFO] Padronizando nome das colunas com letras minusculas\")\n",
    "gdf = processing.lowercase_columns(gdf)\n",
    "\n",
    "print(\"[INFO] Adicionando colunas de latitude e longitude\")\n",
    "gdf = processing.add_lat_lon(gdf)\n",
    "\n",
    "print(\"[INFO] Passando todas as colunas de datas para o padrão utc\")\n",
    "gdf = processing.date_to_utc(gdf)\n",
    "\n",
    "print(\"[INFO] Lidando com quebras de linha '\\\\r\\\\n' presentes nos dados\")\n",
    "gdf = processing.deal_with_line_breaks(gdf)\n",
    "\n",
    "print(\"[INFO] Iniciando validações pré-programadas nos dados\")\n",
    "gdf = processing.validate_gdf(gdf)\n",
    "\n",
    "print(f\"[INFO] Número de linhas final: {len(gdf)}\")\n",
    "print(\"[INFO] Exportando em formato .csv\")\n",
    "\n",
    "os.makedirs(\"outputs\", exist_ok=True)\n",
    "gdf.to_csv(csv_path, index=False)\n",
    "\n",
    "print(f\"[OK] CSV salvo em: {csv_path}\")"
   ]
  }
 ],
 "metadata": {
  "kernelspec": {
   "display_name": "Python 3 (ipykernel)",
   "language": "python",
   "name": "python3"
  },
  "language_info": {
   "codemirror_mode": {
    "name": "ipython",
    "version": 3
   },
   "file_extension": ".py",
   "mimetype": "text/x-python",
   "name": "python",
   "nbconvert_exporter": "python",
   "pygments_lexer": "ipython3",
   "version": "3.12.4"
  }
 },
 "nbformat": 4,
 "nbformat_minor": 5
}
